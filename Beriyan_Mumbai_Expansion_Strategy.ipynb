{
 "cells": [
  {
   "cell_type": "markdown",
   "metadata": {},
   "source": [
    "# Expansion Strategy in Mumbai City for Beriyan Biryani\n",
    "### Applied Data Science Capstone by IBM/Coursera"
   ]
  },
  {
   "cell_type": "markdown",
   "metadata": {},
   "source": [
    "## Table of contents\n",
    "* [Introduction: Business Problem](#introduction)\n",
    "* [Data](#data)\n",
    "* [Methodology](#methodology)\n",
    "* [Analysis](#analysis)\n",
    "* [Results and Discussion](#results)\n",
    "* [Conclusion](#conclusion)"
   ]
  },
  {
   "cell_type": "markdown",
   "metadata": {},
   "source": [
    "## Introduction: Business Problem <a name=\"introduction\"></a>"
   ]
  },
  {
   "cell_type": "markdown",
   "metadata": {},
   "source": [
    "Biryani is one of the most consumed foods in India. It is estimated that the biryani market in India is estimated to be approximately Rs 1,500 crore (USD200M) in the organised sector, and Rs 15,000 crore (USD2B) in the unorganised sector.\n",
    "\n",
    "**Beriyan Biryani**, a Biryani restaurant chain started out of Hyderabad, India has quickly garnered popularity and revenue growth. As they look to scale up, it sees Mumbai as the logical next choice of the city to expand to.\n",
    "\n",
    "This project attempts to find optimal locations for restaurants in a city. Specifically, this report will be targeted to Beriyan Biryani stakeholders interested in opening an **Biryani restaurant** in **Mumbai**, India.\n",
    "\n",
    "We will use data visualization and machine learning methods to generate a few most promissing neighborhoods based on this criteria. Each selection will be comprehensively outlined for the aforementioned stakeholders to make the choice"
   ]
  },
  {
   "cell_type": "markdown",
   "metadata": {},
   "source": [
    "## Data <a name=\"data\"></a>"
   ]
  },
  {
   "cell_type": "markdown",
   "metadata": {},
   "source": [
    "Based on definition of our problem, some key factors that will influence the decision are:\n",
    "* Density of Restaurants in a neighborhood\n",
    "* Biryani Popularity in a neighborhood\n",
    "* Commercial Space Rates in a neighborhood\n",
    "\n",
    "A map encapsulating all the major neighborhoods would be a good starting point.\n",
    "\n",
    "Also, pertinent information about the neighborhoods would be necessary\n",
    "\n",
    "Following data sources will be needed to extract/generate the required information:\n",
    "* Mumbai neigborhoods will be availed by web-scraping the **Mumbai Wikipedia** page\n",
    "* Neighborhood co-ordinates (Latitude and Longitude) will be retrieved using **Nominatim** module from **GeoPy** library\n",
    "* Neighborhood data related to restaurants, venues etc. will be retrieved using **Foursquare API**\n",
    "* Commercial Space Rates will be availed by web-scraping **MagicBricks** (a major online real estate platform in India) database"
   ]
  },
  {
   "cell_type": "markdown",
   "metadata": {},
   "source": [
    "### Mumbai Neighborhoods Dataframe\n",
    "\n",
    "Mumbai Wikipedia page (https://en.wikipedia.org/wiki/List_of_neighbourhoods_in_Mumbai) lists all of the major neighborhoods in Mumbai, sorted by the suburbs, namely- Western, Eastern, Harbor and South Mumbai.\n",
    "\n",
    "We have a basic csv file prepared made by copying this data. We start by importing it, along with the necessary libraries for data analysis and visualization."
   ]
  },
  {
   "cell_type": "code",
   "execution_count": 1,
   "metadata": {},
   "outputs": [],
   "source": [
    "# Importing Necessary Libraries\n",
    "import numpy as np\n",
    "import pandas as pd\n",
    "import json\n",
    "from geopy.geocoders import Nominatim\n",
    "import requests\n",
    "from pandas.io.json import json_normalize \n",
    "import matplotlib.cm as cm\n",
    "import matplotlib.colors as colors\n",
    "import folium \n",
    "from sklearn.cluster import KMeans"
   ]
  },
  {
   "cell_type": "code",
   "execution_count": 2,
   "metadata": {},
   "outputs": [
    {
     "data": {
      "text/html": [
       "<div>\n",
       "<style scoped>\n",
       "    .dataframe tbody tr th:only-of-type {\n",
       "        vertical-align: middle;\n",
       "    }\n",
       "\n",
       "    .dataframe tbody tr th {\n",
       "        vertical-align: top;\n",
       "    }\n",
       "\n",
       "    .dataframe thead th {\n",
       "        text-align: right;\n",
       "    }\n",
       "</style>\n",
       "<table border=\"1\" class=\"dataframe\">\n",
       "  <thead>\n",
       "    <tr style=\"text-align: right;\">\n",
       "      <th></th>\n",
       "      <th>Suburb</th>\n",
       "      <th>Neighborhood</th>\n",
       "    </tr>\n",
       "  </thead>\n",
       "  <tbody>\n",
       "    <tr>\n",
       "      <th>0</th>\n",
       "      <td>Western</td>\n",
       "      <td>Andheri</td>\n",
       "    </tr>\n",
       "    <tr>\n",
       "      <th>1</th>\n",
       "      <td>Western</td>\n",
       "      <td>Mira Bhayandar</td>\n",
       "    </tr>\n",
       "    <tr>\n",
       "      <th>2</th>\n",
       "      <td>Western</td>\n",
       "      <td>Bandra</td>\n",
       "    </tr>\n",
       "    <tr>\n",
       "      <th>3</th>\n",
       "      <td>Western</td>\n",
       "      <td>Borivali</td>\n",
       "    </tr>\n",
       "    <tr>\n",
       "      <th>4</th>\n",
       "      <td>Western</td>\n",
       "      <td>Dahisar</td>\n",
       "    </tr>\n",
       "  </tbody>\n",
       "</table>\n",
       "</div>"
      ],
      "text/plain": [
       "    Suburb    Neighborhood\n",
       "0  Western         Andheri\n",
       "1  Western  Mira Bhayandar\n",
       "2  Western          Bandra\n",
       "3  Western        Borivali\n",
       "4  Western         Dahisar"
      ]
     },
     "execution_count": 2,
     "metadata": {},
     "output_type": "execute_result"
    }
   ],
   "source": [
    "# Create Mumbai Neighborhoods dataframe from csv data\n",
    "mum = pd.read_csv(\"Mumbai_Neighborhoods.csv\")\n",
    "mum.head()"
   ]
  },
  {
   "cell_type": "code",
   "execution_count": 3,
   "metadata": {},
   "outputs": [
    {
     "data": {
      "text/html": [
       "<div>\n",
       "<style scoped>\n",
       "    .dataframe tbody tr th:only-of-type {\n",
       "        vertical-align: middle;\n",
       "    }\n",
       "\n",
       "    .dataframe tbody tr th {\n",
       "        vertical-align: top;\n",
       "    }\n",
       "\n",
       "    .dataframe thead th {\n",
       "        text-align: right;\n",
       "    }\n",
       "</style>\n",
       "<table border=\"1\" class=\"dataframe\">\n",
       "  <thead>\n",
       "    <tr style=\"text-align: right;\">\n",
       "      <th></th>\n",
       "      <th>Suburb</th>\n",
       "      <th>Neighborhood</th>\n",
       "      <th>Latitude</th>\n",
       "      <th>Longitude</th>\n",
       "    </tr>\n",
       "  </thead>\n",
       "  <tbody>\n",
       "    <tr>\n",
       "      <th>0</th>\n",
       "      <td>Western</td>\n",
       "      <td>Andheri</td>\n",
       "      <td>19.119698</td>\n",
       "      <td>72.846420</td>\n",
       "    </tr>\n",
       "    <tr>\n",
       "      <th>1</th>\n",
       "      <td>Western</td>\n",
       "      <td>Mira Bhayandar</td>\n",
       "      <td>NaN</td>\n",
       "      <td>NaN</td>\n",
       "    </tr>\n",
       "    <tr>\n",
       "      <th>2</th>\n",
       "      <td>Western</td>\n",
       "      <td>Bandra</td>\n",
       "      <td>19.054979</td>\n",
       "      <td>72.840220</td>\n",
       "    </tr>\n",
       "    <tr>\n",
       "      <th>3</th>\n",
       "      <td>Western</td>\n",
       "      <td>Borivali</td>\n",
       "      <td>19.229068</td>\n",
       "      <td>72.857363</td>\n",
       "    </tr>\n",
       "    <tr>\n",
       "      <th>4</th>\n",
       "      <td>Western</td>\n",
       "      <td>Dahisar</td>\n",
       "      <td>19.249450</td>\n",
       "      <td>72.859621</td>\n",
       "    </tr>\n",
       "  </tbody>\n",
       "</table>\n",
       "</div>"
      ],
      "text/plain": [
       "    Suburb    Neighborhood   Latitude  Longitude\n",
       "0  Western         Andheri  19.119698  72.846420\n",
       "1  Western  Mira Bhayandar        NaN        NaN\n",
       "2  Western          Bandra  19.054979  72.840220\n",
       "3  Western        Borivali  19.229068  72.857363\n",
       "4  Western         Dahisar  19.249450  72.859621"
      ]
     },
     "execution_count": 3,
     "metadata": {},
     "output_type": "execute_result"
    }
   ],
   "source": [
    "# Get co-ordinates for each neighborhood and add them to the neighborhoods dataframe\n",
    "geolocator = Nominatim(user_agent=\"foursquare_agent\")\n",
    "latitude = []\n",
    "longitude = []\n",
    "for i in mum['Neighborhood']:\n",
    "    location = geolocator.geocode(i+',Mumbai')\n",
    "    try:                                            # Co-ordinates for some neighborhoods may not be available, we replace\n",
    "        latitude.append(location.latitude)          # those with NaN\n",
    "        longitude.append(location.longitude)\n",
    "    except:\n",
    "        latitude.append(np.nan)\n",
    "        longitude.append(np.nan)\n",
    "mum['Latitude'] = pd.Series(latitude)\n",
    "mum['Longitude'] = pd.Series(longitude)\n",
    "mum.head()"
   ]
  },
  {
   "cell_type": "code",
   "execution_count": 6,
   "metadata": {},
   "outputs": [
    {
     "data": {
      "text/html": [
       "<div>\n",
       "<style scoped>\n",
       "    .dataframe tbody tr th:only-of-type {\n",
       "        vertical-align: middle;\n",
       "    }\n",
       "\n",
       "    .dataframe tbody tr th {\n",
       "        vertical-align: top;\n",
       "    }\n",
       "\n",
       "    .dataframe thead th {\n",
       "        text-align: right;\n",
       "    }\n",
       "</style>\n",
       "<table border=\"1\" class=\"dataframe\">\n",
       "  <thead>\n",
       "    <tr style=\"text-align: right;\">\n",
       "      <th></th>\n",
       "      <th>index</th>\n",
       "      <th>Suburb</th>\n",
       "      <th>Neighborhood</th>\n",
       "      <th>Latitude</th>\n",
       "      <th>Longitude</th>\n",
       "    </tr>\n",
       "  </thead>\n",
       "  <tbody>\n",
       "    <tr>\n",
       "      <th>0</th>\n",
       "      <td>0</td>\n",
       "      <td>Western</td>\n",
       "      <td>Andheri</td>\n",
       "      <td>19.119698</td>\n",
       "      <td>72.846420</td>\n",
       "    </tr>\n",
       "    <tr>\n",
       "      <th>1</th>\n",
       "      <td>2</td>\n",
       "      <td>Western</td>\n",
       "      <td>Bandra</td>\n",
       "      <td>19.054979</td>\n",
       "      <td>72.840220</td>\n",
       "    </tr>\n",
       "    <tr>\n",
       "      <th>2</th>\n",
       "      <td>3</td>\n",
       "      <td>Western</td>\n",
       "      <td>Borivali</td>\n",
       "      <td>19.229068</td>\n",
       "      <td>72.857363</td>\n",
       "    </tr>\n",
       "    <tr>\n",
       "      <th>3</th>\n",
       "      <td>4</td>\n",
       "      <td>Western</td>\n",
       "      <td>Dahisar</td>\n",
       "      <td>19.249450</td>\n",
       "      <td>72.859621</td>\n",
       "    </tr>\n",
       "    <tr>\n",
       "      <th>4</th>\n",
       "      <td>5</td>\n",
       "      <td>Western</td>\n",
       "      <td>Goregaon</td>\n",
       "      <td>19.164803</td>\n",
       "      <td>72.850045</td>\n",
       "    </tr>\n",
       "  </tbody>\n",
       "</table>\n",
       "</div>"
      ],
      "text/plain": [
       "   index   Suburb Neighborhood   Latitude  Longitude\n",
       "0      0  Western      Andheri  19.119698  72.846420\n",
       "1      2  Western       Bandra  19.054979  72.840220\n",
       "2      3  Western     Borivali  19.229068  72.857363\n",
       "3      4  Western      Dahisar  19.249450  72.859621\n",
       "4      5  Western     Goregaon  19.164803  72.850045"
      ]
     },
     "execution_count": 6,
     "metadata": {},
     "output_type": "execute_result"
    }
   ],
   "source": [
    "# Remove the neighborhoods with NaN co-ordinates\n",
    "mum.dropna(inplace=True)\n",
    "mum.reset_index(inplace=True)\n",
    "mum.head()"
   ]
  },
  {
   "cell_type": "code",
   "execution_count": 7,
   "metadata": {},
   "outputs": [
    {
     "data": {
      "text/html": [
       "<div>\n",
       "<style scoped>\n",
       "    .dataframe tbody tr th:only-of-type {\n",
       "        vertical-align: middle;\n",
       "    }\n",
       "\n",
       "    .dataframe tbody tr th {\n",
       "        vertical-align: top;\n",
       "    }\n",
       "\n",
       "    .dataframe thead th {\n",
       "        text-align: right;\n",
       "    }\n",
       "</style>\n",
       "<table border=\"1\" class=\"dataframe\">\n",
       "  <thead>\n",
       "    <tr style=\"text-align: right;\">\n",
       "      <th></th>\n",
       "      <th>Suburb</th>\n",
       "      <th>Neighborhood</th>\n",
       "      <th>Latitude</th>\n",
       "      <th>Longitude</th>\n",
       "    </tr>\n",
       "  </thead>\n",
       "  <tbody>\n",
       "    <tr>\n",
       "      <th>0</th>\n",
       "      <td>Western</td>\n",
       "      <td>Andheri</td>\n",
       "      <td>19.119698</td>\n",
       "      <td>72.846420</td>\n",
       "    </tr>\n",
       "    <tr>\n",
       "      <th>1</th>\n",
       "      <td>Western</td>\n",
       "      <td>Bandra</td>\n",
       "      <td>19.054979</td>\n",
       "      <td>72.840220</td>\n",
       "    </tr>\n",
       "    <tr>\n",
       "      <th>2</th>\n",
       "      <td>Western</td>\n",
       "      <td>Borivali</td>\n",
       "      <td>19.229068</td>\n",
       "      <td>72.857363</td>\n",
       "    </tr>\n",
       "    <tr>\n",
       "      <th>3</th>\n",
       "      <td>Western</td>\n",
       "      <td>Dahisar</td>\n",
       "      <td>19.249450</td>\n",
       "      <td>72.859621</td>\n",
       "    </tr>\n",
       "    <tr>\n",
       "      <th>4</th>\n",
       "      <td>Western</td>\n",
       "      <td>Goregaon</td>\n",
       "      <td>19.164803</td>\n",
       "      <td>72.850045</td>\n",
       "    </tr>\n",
       "  </tbody>\n",
       "</table>\n",
       "</div>"
      ],
      "text/plain": [
       "    Suburb Neighborhood   Latitude  Longitude\n",
       "0  Western      Andheri  19.119698  72.846420\n",
       "1  Western       Bandra  19.054979  72.840220\n",
       "2  Western     Borivali  19.229068  72.857363\n",
       "3  Western      Dahisar  19.249450  72.859621\n",
       "4  Western     Goregaon  19.164803  72.850045"
      ]
     },
     "execution_count": 7,
     "metadata": {},
     "output_type": "execute_result"
    }
   ],
   "source": [
    "del mum['index']\n",
    "mum.head()"
   ]
  },
  {
   "cell_type": "markdown",
   "metadata": {},
   "source": [
    "Let us create a map visualization of the Mumbai neighborhoods, so as to get the geographical overview of the city."
   ]
  },
  {
   "cell_type": "code",
   "execution_count": 8,
   "metadata": {},
   "outputs": [
    {
     "name": "stdout",
     "output_type": "stream",
     "text": [
      "Mumbai co-ordinates are: 19.1648029 72.8500454\n"
     ]
    }
   ],
   "source": [
    "# Finding the latitude and longitude for Mumbai\n",
    "\n",
    "address = 'Goregaon, Mumbai'\n",
    "\n",
    "geolocator = Nominatim(user_agent=\"foursquare_agent\")\n",
    "location = geolocator.geocode(address)\n",
    "latitude = location.latitude\n",
    "longitude = location.longitude\n",
    "print(\"Mumbai co-ordinates are:\",latitude, longitude)"
   ]
  },
  {
   "cell_type": "code",
   "execution_count": 10,
   "metadata": {},
   "outputs": [
    {
     "data": {
      "text/html": [
       "<div style=\"width:100%;\"><div style=\"position:relative;width:100%;height:0;padding-bottom:60%;\"><span style=\"color:#565656\">Make this Notebook Trusted to load map: File -> Trust Notebook</span><iframe src=\"about:blank\" style=\"position:absolute;width:100%;height:100%;left:0;top:0;border:none !important;\" data-html=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 onload=\"this.contentDocument.open();this.contentDocument.write(atob(this.getAttribute('data-html')));this.contentDocument.close();\" allowfullscreen webkitallowfullscreen mozallowfullscreen></iframe></div></div>"
      ],
      "text/plain": [
       "<folium.folium.Map at 0x22c6eff33c8>"
      ]
     },
     "execution_count": 10,
     "metadata": {},
     "output_type": "execute_result"
    }
   ],
   "source": [
    "# Creating Mumbai map and marking the neighborhoods from dataframe on it\n",
    "\n",
    "map_mumbai = folium.Map(location=[latitude, longitude], zoom_start=10)\n",
    "\n",
    "for lat, lng, neighborhood in zip(mum['Latitude'], mum['Longitude'], mum['Neighborhood']):\n",
    "    label = '{}'.format(neighborhood)\n",
    "    label = folium.Popup(label, parse_html=True)\n",
    "    folium.CircleMarker(\n",
    "        [lat, lng],\n",
    "        radius=5,\n",
    "        popup=label,\n",
    "        color='red',\n",
    "        fill=True,\n",
    "        fill_color='#fbb8a9',\n",
    "        fill_opacity=0.7,\n",
    "        parse_html=False).add_to(map_mumbai)  \n",
    "\n",
    "map_mumbai"
   ]
  },
  {
   "cell_type": "code",
   "execution_count": null,
   "metadata": {},
   "outputs": [],
   "source": []
  }
 ],
 "metadata": {
  "kernelspec": {
   "display_name": "Python 3.7.7 64-bit ('venv': conda)",
   "language": "python",
   "name": "python37764bitvenvconda1175fc2705b043cba354bdb226332f11"
  },
  "language_info": {
   "codemirror_mode": {
    "name": "ipython",
    "version": 3
   },
   "file_extension": ".py",
   "mimetype": "text/x-python",
   "name": "python",
   "nbconvert_exporter": "python",
   "pygments_lexer": "ipython3",
   "version": "3.7.7"
  }
 },
 "nbformat": 4,
 "nbformat_minor": 4
}
